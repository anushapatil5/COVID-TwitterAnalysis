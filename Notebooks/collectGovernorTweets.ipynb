{
 "cells": [
  {
   "cell_type": "code",
   "execution_count": 1,
   "metadata": {},
   "outputs": [],
   "source": [
    "from time import sleep\n",
    "from pathlib import Path\n",
    "import pandas as pd\n",
    "import tweepy  \n",
    "import csv\n",
    "import os\n",
    "import json\n",
    "import datetime"
   ]
  },
  {
   "cell_type": "code",
   "execution_count": 2,
   "metadata": {},
   "outputs": [],
   "source": [
    "# Credentials for API\n",
    "consumer_key = \"YOUR KEY\"\n",
    "consumer_secret = \"YOUR TWITTER API SECRET\"\n",
    "access_token = \"ACCESS TOEKN GOES HERE\"\n",
    "access_token_secret = \"YOUR TWITTER API SECRET\"\n",
    "\n",
    "auth = tweepy.OAuthHandler(consumer_key, consumer_secret)  \n",
    "auth.set_access_token(access_token, access_token_secret)  \n",
    "api = tweepy.API(auth)"
   ]
  },
  {
   "cell_type": "code",
   "execution_count": 38,
   "metadata": {},
   "outputs": [],
   "source": [
    "# Function to perform collection of tweets from API\n",
    "def tweetCollector(twitter_handle, twitter_ids_filename):\n",
    "    tweets = []\n",
    "    startDate = datetime.datetime(2020, 1, 21, 0, 0, 0)\n",
    "    endDate =   datetime.datetime(2020, 4, 21, 0, 0, 0)\n",
    "    try:  \n",
    "        for tweet in tweepy.Cursor(api.user_timeline, screen_name=twitter_handle, exclude_replies=True).items(1500): \n",
    "            if tweet.created_at < endDate and tweet.created_at > startDate:\n",
    "                tweet_text = tweet.text  \n",
    "                time = tweet.created_at  \n",
    "                tweeter = tweet.user.screen_name \n",
    "                t_id = tweet.id\n",
    "                tweet_dict = {\"tweet_text\" : tweet_text.strip(), \"timestamp\" : str(time), \"id\": tweet.id, \"user\" :tweeter}  \n",
    "                tweets.append(tweet_dict)\n",
    "    except tweepy.TweepError:  \n",
    "        sleep(500)\n",
    "\n",
    "    with open(twitter_ids_filename, 'w+') as outfile:\n",
    "        json.dump(tweets, outfile)\n",
    "    #print(tweets) \n",
    "    #print('total tweet count: {}'.format(len(tweets)))\n",
    "    #print('all done here')\n",
    "    return(len(tweets))"
   ]
  },
  {
   "cell_type": "code",
   "execution_count": 39,
   "metadata": {},
   "outputs": [
    {
     "name": "stdout",
     "output_type": "stream",
     "text": [
      "837 tweets from official handle of governor (D) of California collected.\n",
      "256 tweets from official handle of governor (D) of Colorado collected.\n",
      "945 tweets from official handle of governor (D) of Connecticut collected.\n",
      "343 tweets from official handle of governor (D) of Delaware collected.\n",
      "467 tweets from official handle of governor (D) of Hawaii collected.\n",
      "256 tweets from official handle of governor (D) of Illinois collected.\n",
      "494 tweets from official handle of governor (D) of Kansas collected.\n",
      "439 tweets from official handle of governor (D) of Kentucky collected.\n",
      "1500 tweets from official handle of governor (D) of Louisiana collected.\n",
      "98 tweets from official handle of governor (D) of Maine collected.\n",
      "264 tweets from official handle of governor (D) of Michigan collected.\n",
      "252 tweets from official handle of governor (D) of Minnesota collected.\n",
      "0 tweets from official handle of governor (D) of Montana collected.\n",
      "496 tweets from official handle of governor (D) of Nevada collected.\n",
      "1497 tweets from official handle of governor (D) of New Jersey collected.\n",
      "464 tweets from official handle of governor (D) of New Mexico collected.\n",
      "696 tweets from official handle of governor (D) of New York collected.\n",
      "537 tweets from official handle of governor (D) of North Carolina collected.\n",
      "230 tweets from official handle of governor (D) of Oregon collected.\n",
      "202 tweets from official handle of governor (D) of Pennsylvania collected.\n",
      "240 tweets from official handle of governor (D) of Rhode Island collected.\n",
      "259 tweets from official handle of governor (D) of Virginia collected.\n",
      "311 tweets from official handle of governor (D) of Washington collected.\n",
      "0 tweets from official handle of governor (D) of Wisconsin collected.\n"
     ]
    }
   ],
   "source": [
    "#Collect Tweets from Democrat Governers' Offcial Twitter Handles\n",
    "directory_path = \"../Dataset/tweets/democrat/official/\"\n",
    "Path(directory_path).mkdir(parents=True, exist_ok=True)\n",
    "dem_df = pd.read_csv(\"../Dataset/governorList/final_democrat.csv\")\n",
    "dem_official_tweets = {}\n",
    "for ind in dem_df.index: \n",
    "    file_path = directory_path + str(ind) + \".json\"\n",
    "    num_tweets = tweetCollector(dem_df['official_twitter'][ind], file_path)\n",
    "    dem_official_tweets.update({dem_df['official_twitter'][ind] : num_tweets})\n",
    "    print(\"{} tweets from official handle of governor (D) of {} collected.\".format(num_tweets, dem_df['state_name'][ind]))"
   ]
  },
  {
   "cell_type": "code",
   "execution_count": 40,
   "metadata": {},
   "outputs": [
    {
     "name": "stdout",
     "output_type": "stream",
     "text": [
      "434 tweets from personal handle of governor (D) of California collected.\n",
      "156 tweets from personal handle of governor (D) of Colorado collected.\n",
      "1 tweets from personal handle of governor (D) of Connecticut collected.\n",
      "266 tweets from personal handle of governor (D) of Delaware collected.\n",
      "445 tweets from personal handle of governor (D) of Hawaii collected.\n",
      "15 tweets from personal handle of governor (D) of Illinois collected.\n",
      "28 tweets from personal handle of governor (D) of Kansas collected.\n",
      "137 tweets from personal handle of governor (D) of Kentucky collected.\n",
      "40 tweets from personal handle of governor (D) of Louisiana collected.\n",
      "60 tweets from personal handle of governor (D) of Maine collected.\n",
      "0 tweets from personal handle of governor (D) of Michigan collected.\n",
      "26 tweets from personal handle of governor (D) of Minnesota collected.\n",
      "0 tweets from personal handle of governor (D) of Montana collected.\n",
      "430 tweets from personal handle of governor (D) of Nevada collected.\n",
      "15 tweets from personal handle of governor (D) of New Jersey collected.\n",
      "171 tweets from personal handle of governor (D) of New Mexico collected.\n",
      "0 tweets from personal handle of governor (D) of New York collected.\n",
      "181 tweets from personal handle of governor (D) of North Carolina collected.\n",
      "12 tweets from personal handle of governor (D) of Oregon collected.\n",
      "606 tweets from personal handle of governor (D) of Pennsylvania collected.\n",
      "2 tweets from personal handle of governor (D) of Rhode Island collected.\n",
      "6 tweets from personal handle of governor (D) of Virginia collected.\n",
      "204 tweets from personal handle of governor (D) of Washington collected.\n",
      "252 tweets from personal handle of governor (D) of Wisconsin collected.\n"
     ]
    }
   ],
   "source": [
    "#Collect Tweets from Democrat Governers' Personal Twitter Handles\n",
    "directory_path = \"../Dataset/tweets/democrat/personal/\"\n",
    "Path(directory_path).mkdir(parents=True, exist_ok=True)\n",
    "dem_df = pd.read_csv(\"../Dataset/governorList/final_democrat.csv\")\n",
    "dem_personal_tweets = {}\n",
    "for ind in dem_df.index: \n",
    "    file_path = directory_path + str(ind) + \".json\"\n",
    "    num_tweets = tweetCollector(dem_df['personal_twitter'][ind], file_path)\n",
    "    dem_personal_tweets.update({dem_df['personal_twitter'][ind] : num_tweets})\n",
    "    print(\"{} tweets from personal handle of governor (D) of {} collected.\".format(num_tweets, dem_df['state_name'][ind]))"
   ]
  },
  {
   "cell_type": "code",
   "execution_count": 41,
   "metadata": {
    "scrolled": true
   },
   "outputs": [
    {
     "name": "stdout",
     "output_type": "stream",
     "text": [
      "326 tweets from official handle ofgovernor (R) of Alabama collected.\n",
      "0 tweets from official handle ofgovernor (R) of Alaska collected.\n",
      "706 tweets from official handle ofgovernor (R) of Arizona collected.\n",
      "245 tweets from official handle ofgovernor (R) of Arkansas collected.\n",
      "83 tweets from official handle ofgovernor (R) of Florida collected.\n",
      "446 tweets from official handle ofgovernor (R) of Georgia collected.\n",
      "311 tweets from official handle ofgovernor (R) of Idaho collected.\n",
      "315 tweets from official handle ofgovernor (R) of Indiana collected.\n",
      "223 tweets from official handle ofgovernor (R) of Iowa collected.\n",
      "467 tweets from official handle ofgovernor (R) of Maryland collected.\n",
      "265 tweets from official handle ofgovernor (R) of Massachusetts collected.\n",
      "20 tweets from official handle ofgovernor (R) of Mississippi collected.\n",
      "888 tweets from official handle ofgovernor (R) of Missouri collected.\n",
      "359 tweets from official handle ofgovernor (R) of Nebraska collected.\n",
      "706 tweets from official handle ofgovernor (R) of New Hampshire collected.\n",
      "165 tweets from official handle ofgovernor (R) of North Dakota collected.\n",
      "1192 tweets from official handle ofgovernor (R) of Ohio collected.\n",
      "253 tweets from official handle ofgovernor (R) of Oklahoma collected.\n",
      "50 tweets from official handle ofgovernor (R) of South Carolina collected.\n",
      "294 tweets from official handle ofgovernor (R) of South Dakota collected.\n",
      "306 tweets from official handle ofgovernor (R) of Tennessee collected.\n",
      "196 tweets from official handle ofgovernor (R) of Texas collected.\n",
      "182 tweets from official handle ofgovernor (R) of Utah collected.\n",
      "64 tweets from official handle ofgovernor (R) of Vermont collected.\n",
      "0 tweets from official handle ofgovernor (R) of West Virginia collected.\n",
      "126 tweets from official handle ofgovernor (R) of Wyoming collected.\n"
     ]
    }
   ],
   "source": [
    "#Collect Tweets from Republican Governers' Offcial Twitter Handles\n",
    "directory_path = \"../Dataset/tweets/republican/official/\"\n",
    "Path(directory_path).mkdir(parents=True, exist_ok=True)\n",
    "rep_df = pd.read_csv(\"../Dataset/governorList/final_republican.csv\")\n",
    "rep_official_tweets = {}\n",
    "for ind in rep_df.index: \n",
    "    file_path = directory_path + str(ind) + \".json\"\n",
    "    num_tweets = tweetCollector(rep_df['official_twitter'][ind], file_path)\n",
    "    rep_official_tweets.update({rep_df['official_twitter'][ind] : num_tweets})\n",
    "    print(\"{} tweets from official handle ofgovernor (R) of {} collected.\".format(num_tweets, rep_df['state_name'][ind]))"
   ]
  },
  {
   "cell_type": "code",
   "execution_count": 43,
   "metadata": {},
   "outputs": [
    {
     "name": "stdout",
     "output_type": "stream",
     "text": [
      "0 tweets from personal handle ofgovernor (R) of Alabama collected.\n",
      "149 tweets from personal handle ofgovernor (R) of Alaska collected.\n",
      "1319 tweets from personal handle ofgovernor (R) of Arizona collected.\n",
      "287 tweets from personal handle ofgovernor (R) of Arkansas collected.\n",
      "54 tweets from personal handle ofgovernor (R) of Florida collected.\n",
      "195 tweets from personal handle ofgovernor (R) of Georgia collected.\n",
      "445 tweets from personal handle ofgovernor (R) of Idaho collected.\n",
      "506 tweets from personal handle ofgovernor (R) of Indiana collected.\n",
      "111 tweets from personal handle ofgovernor (R) of Iowa collected.\n",
      "331 tweets from personal handle ofgovernor (R) of Maryland collected.\n",
      "28 tweets from personal handle ofgovernor (R) of Massachusetts collected.\n",
      "363 tweets from personal handle ofgovernor (R) of Mississippi collected.\n",
      "226 tweets from personal handle ofgovernor (R) of Missouri collected.\n",
      "994 tweets from personal handle ofgovernor (R) of Nebraska collected.\n",
      "53 tweets from personal handle ofgovernor (R) of New Hampshire collected.\n",
      "148 tweets from personal handle ofgovernor (R) of North Dakota collected.\n",
      "84 tweets from personal handle ofgovernor (R) of Ohio collected.\n",
      "445 tweets from personal handle ofgovernor (R) of Oklahoma collected.\n",
      "111 tweets from personal handle ofgovernor (R) of South Carolina collected.\n",
      "28 tweets from personal handle ofgovernor (R) of South Dakota collected.\n",
      "0 tweets from personal handle ofgovernor (R) of Tennessee collected.\n",
      "319 tweets from personal handle ofgovernor (R) of Texas collected.\n",
      "0 tweets from personal handle ofgovernor (R) of Utah collected.\n",
      "2 tweets from personal handle ofgovernor (R) of Vermont collected.\n",
      "254 tweets from personal handle ofgovernor (R) of West Virginia collected.\n",
      "0 tweets from personal handle ofgovernor (R) of Wyoming collected.\n"
     ]
    }
   ],
   "source": [
    "#Collect Tweets from Republican Governers' Personal Twitter Handles\n",
    "directory_path = \"../Dataset/tweets/republican/personal/\"\n",
    "Path(directory_path).mkdir(parents=True, exist_ok=True)\n",
    "rep_df = pd.read_csv(\"../Dataset/governorList/final_republican.csv\")\n",
    "rep_personal_tweets = {}\n",
    "for ind in rep_df.index: \n",
    "    file_path = directory_path + str(ind) + \".json\"\n",
    "    num_tweets = tweetCollector(rep_df['personal_twitter'][ind], file_path)\n",
    "    rep_personal_tweets.update({rep_df['personal_twitter'][ind] : num_tweets})\n",
    "    print(\"{} tweets from personal handle ofgovernor (R) of {} collected.\".format(num_tweets, rep_df['state_name'][ind]))"
   ]
  },
  {
   "cell_type": "code",
   "execution_count": 89,
   "metadata": {},
   "outputs": [],
   "source": [
    "#Analysis on the number of tweets collected\n",
    "rep_official_csv =\"\\n\".join(['Rep_official,' + str(k) +','+ str(v) for k,v in rep_official_tweets.items()])\n",
    "rep_personal_csv =\"\\n\".join(['Rep_personal,' + str(k) +','+ str(v) for k,v in rep_personal_tweets.items()])\n",
    "dem_official_csv =\"\\n\".join(['Dem_official,' + str(k) +','+ str(v) for k,v in dem_official_tweets.items()])\n",
    "dem_personal_csv =\"\\n\".join(['Dem_personal,' + str(k) +','+ str(v) for k,v in dem_personal_tweets.items()]) \n",
    "#You can store this CSV string variable to file as below\n",
    "with open(\"../Dataset/tweets/tweet-stats.csv\", \"w\") as file:\n",
    "    file.write(\"party,handle,tweet_count\\n\")\n",
    "    file.write(dem_official_csv)\n",
    "    file.write(\"\\n\")\n",
    "    file.write(dem_personal_csv)\n",
    "    file.write(\"\\n\")\n",
    "    file.write(rep_official_csv)\n",
    "    file.write(\"\\n\")\n",
    "    file.write(rep_personal_csv)      "
   ]
  },
  {
   "cell_type": "code",
   "execution_count": 92,
   "metadata": {},
   "outputs": [
    {
     "name": "stdout",
     "output_type": "stream",
     "text": [
      "Overall # of tweets collected for training: 28033\n",
      "# of Republicatn tweets collected: 13908 (Official: 8188; Personal: 5720)\n",
      "# of Democratic tweets collected: 14125 (Official: 11083; Personal: 3042)\n"
     ]
    }
   ],
   "source": [
    "data = pd.read_csv('../Dataset/tweets/tweet-stats.csv')\n",
    "grouped = data.groupby(data.party)\n",
    "rep_official = grouped.get_group(\"Rep_official\")\n",
    "rep_personal = grouped.get_group(\"Rep_personal\")\n",
    "dem_official = grouped.get_group(\"Dem_official\")\n",
    "dem_personal = grouped.get_group(\"Dem_personal\")\n",
    "\n",
    "print(\"Overall # of tweets collected for training: {}\".format(data.tweet_count.sum()))\n",
    "print(\"# of Republicatn tweets collected: {} (Official: {}; Personal: {})\".format(rep_official.tweet_count.sum()+rep_personal.tweet_count.sum(),rep_official.tweet_count.sum(),rep_personal.tweet_count.sum()))\n",
    "print(\"# of Democratic tweets collected: {} (Official: {}; Personal: {})\".format(dem_official.tweet_count.sum()+dem_personal.tweet_count.sum(), dem_official.tweet_count.sum(),dem_personal.tweet_count.sum()))\n",
    "#print(data)"
   ]
  },
  {
   "cell_type": "code",
   "execution_count": null,
   "metadata": {},
   "outputs": [],
   "source": []
  }
 ],
 "metadata": {
  "kernelspec": {
   "display_name": "Python 3",
   "language": "python",
   "name": "python3"
  },
  "language_info": {
   "codemirror_mode": {
    "name": "ipython",
    "version": 3
   },
   "file_extension": ".py",
   "mimetype": "text/x-python",
   "name": "python",
   "nbconvert_exporter": "python",
   "pygments_lexer": "ipython3",
   "version": "3.7.4"
  }
 },
 "nbformat": 4,
 "nbformat_minor": 2
}
