{
 "cells": [
  {
   "cell_type": "code",
   "execution_count": 1,
   "metadata": {},
   "outputs": [],
   "source": [
    "from time import sleep\n",
    "from pathlib import Path\n",
    "import pandas as pd\n",
    "import tweepy  \n",
    "import csv\n",
    "import os\n",
    "import json\n",
    "import datetime"
   ]
  },
  {
   "cell_type": "code",
   "execution_count": 8,
   "metadata": {},
   "outputs": [],
   "source": [
    "#Collect, Parse and update the list of governors, their parties and twitter handles\n",
    "input_file = '../Dataset/governorList/raw.csv'\n",
    "output_file = '../Dataset/governorList/condensed.csv'\n",
    "cols_to_remove = [1,2,3,4,5,8,9,10,11,12,13,14,15,16,17,18,19,20,21,22,23,24,25,26,27,28,29,30,31,32,33,34,35,36,37,38,39,41,42] # Column indexes to be removed (starts at 0)\n",
    "cols_to_remove = sorted(cols_to_remove, reverse=True) # Reverse so we remove from the end first\n",
    "row_count = 0 # Current amount of rows processed\n",
    "with open(input_file, \"r\") as source:\n",
    "    reader = csv.reader(source)\n",
    "    with open(output_file, \"w\", newline='') as result:\n",
    "        writer = csv.writer(result)\n",
    "        for row in reader:\n",
    "            row_count += 1\n",
    "            #print('\\r{0}'.format(row_count), end='') # Print rows processed\n",
    "            for col_index in cols_to_remove:\n",
    "                del row[col_index]\n",
    "            writer.writerow(row)"
   ]
  },
  {
   "cell_type": "code",
   "execution_count": 9,
   "metadata": {},
   "outputs": [
    {
     "name": "stdout",
     "output_type": "stream",
     "text": [
      "Twiiter handles are incomplete: 47\n",
      "Manually updated twitter handles #: 50\n",
      "Democrat:Republican - 24:26\n"
     ]
    }
   ],
   "source": [
    "def get_number_of_rows(filename, header):\n",
    "    with open(filename) as f:\n",
    "        reader = csv.DictReader(f)\n",
    "        return sum([bool(row[header]) for row in reader])\n",
    "print(\"Twiiter handles are incomplete: {}\".format(get_number_of_rows(output_file, 'twitter_handle')))\n",
    "##Manually fill in the rest of details & make sure the info is complete; name it final_governors_list\n",
    "print(\"Manually updated twitter handles #: {}\".format(get_number_of_rows('../Dataset/governorList/final.csv', 'twitter_handle')))"
   ]
  },
  {
   "cell_type": "code",
   "execution_count": 9,
   "metadata": {},
   "outputs": [
    {
     "name": "stdout",
     "output_type": "stream",
     "text": [
      "Democrat:Republican - 24:26\n"
     ]
    }
   ],
   "source": [
    "data = pd.read_csv(\"../Dataset/governorList/governors_checked.csv\")\n",
    "grouped = data.groupby(data.party)\n",
    "rep = grouped.get_group(\"republican\")\n",
    "dem = grouped.get_group(\"democrat\")\n",
    "print(\"Democrat:Republican - {}:{}\".format(len(dem),len(rep)))\n",
    "rep.to_csv('../Dataset/governorList/final_republican.csv',index=False)\n",
    "dem.to_csv('../Dataset/governorList/final_democrat.csv',index=False)"
   ]
  }
 ],
 "metadata": {
  "kernelspec": {
   "display_name": "Python 3",
   "language": "python",
   "name": "python3"
  },
  "language_info": {
   "codemirror_mode": {
    "name": "ipython",
    "version": 3
   },
   "file_extension": ".py",
   "mimetype": "text/x-python",
   "name": "python",
   "nbconvert_exporter": "python",
   "pygments_lexer": "ipython3",
   "version": "3.7.4"
  }
 },
 "nbformat": 4,
 "nbformat_minor": 2
}
